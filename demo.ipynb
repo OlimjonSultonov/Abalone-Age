{
 "cells": [
  {
   "cell_type": "code",
   "execution_count": 1,
   "metadata": {},
   "outputs": [],
   "source": [
    "import  pandas as pd \n",
    "import numpy as np \n",
    "import seaborn as sns \n",
    "import matplotlib.pyplot as plt \n",
    "\n",
    "from sklearn.model_selection import train_test_split, RandomizedSearchCV\n",
    "from sklearn.linear_model import LinearRegression, Ridge, Lasso, ElasticNet, HuberRegressor, RANSACRegressor, TheilSenRegressor\n",
    "\n",
    "from sklearn.pipeline import Pipeline\n",
    "from sklearn.ensemble import VotingRegressor, StackingRegressor\n",
    "from sklearn.feature_selection import RFE, SelectKBest, f_regression\n",
    "from sklearn.metrics import root_mean_squared_error,  mean_absolute_error, median_absolute_error, r2_score, mean_absolute_percentage_error\n",
    "from sklearn.preprocessing import StandardScaler, MinMaxScaler, MaxAbsScaler, LabelEncoder, PolynomialFeatures, OneHotEncoder, RobustScaler ,KBinsDiscretizer"
   ]
  },
  {
   "cell_type": "code",
   "execution_count": 2,
   "metadata": {},
   "outputs": [
    {
     "name": "stdout",
     "output_type": "stream",
     "text": [
      "Index(['id', 'Sex', 'Length', 'Diameter', 'Height', 'Weight', 'Shucked Weight',\n",
      "       'Viscera Weight', 'Shell Weight', 'Age'],\n",
      "      dtype='object')\n"
     ]
    }
   ],
   "source": [
    "df = pd.read_csv('train.csv')\n",
    "\n",
    "df['Sex'] = df['Sex'].replace('Diameter', 'M')\n",
    "\n",
    "print(df.columns)\n"
   ]
  },
  {
   "cell_type": "code",
   "execution_count": 3,
   "metadata": {},
   "outputs": [],
   "source": [
    "\n",
    "encoder = OneHotEncoder(sparse_output=False)\n",
    "encoded_data = encoder.fit_transform(df[['Sex']])\n",
    "\n",
    "encoded_df = pd.DataFrame(encoded_data, columns=encoder.get_feature_names_out(['Sex']))\n",
    "\n",
    "df_new = pd.concat([df, encoded_df], axis=1)\n"
   ]
  },
  {
   "cell_type": "code",
   "execution_count": 4,
   "metadata": {},
   "outputs": [],
   "source": [
    "df_test = pd.read_csv('test.csv')\n",
    "\n",
    "encoder = OneHotEncoder(sparse_output=False)\n",
    "encoded_data = encoder.fit_transform(df_test[['Sex']])\n",
    "encoded_df_test = pd.DataFrame(encoded_data, columns=encoder.get_feature_names_out(['Sex']))\n",
    "df_new_test = pd.concat([df_test, encoded_df_test], axis=1)\n",
    "\n",
    "X_test = df_new_test.drop(['id', 'Sex'], axis=1)\n",
    "\n",
    "\n"
   ]
  },
  {
   "cell_type": "code",
   "execution_count": 5,
   "metadata": {},
   "outputs": [
    {
     "data": {
      "text/plain": [
       "(10000, 9)"
      ]
     },
     "execution_count": 5,
     "metadata": {},
     "output_type": "execute_result"
    }
   ],
   "source": [
    "df_test.shape"
   ]
  },
  {
   "cell_type": "code",
   "execution_count": 6,
   "metadata": {},
   "outputs": [],
   "source": [
    "X_train = df_new.drop(['id', 'Sex', 'Age'], axis=1)\n",
    "y_train = df_new['Age']\n"
   ]
  },
  {
   "cell_type": "code",
   "execution_count": 7,
   "metadata": {},
   "outputs": [
    {
     "name": "stdout",
     "output_type": "stream",
     "text": [
      "1.3702607369822437\n"
     ]
    },
    {
     "name": "stderr",
     "output_type": "stream",
     "text": [
      "c:\\Users\\User\\AppData\\Local\\Programs\\Python\\Python312\\Lib\\site-packages\\sklearn\\linear_model\\_huber.py:342: ConvergenceWarning: lbfgs failed to converge (status=1):\n",
      "STOP: TOTAL NO. of ITERATIONS REACHED LIMIT.\n",
      "\n",
      "Increase the number of iterations (max_iter) or scale the data as shown in:\n",
      "    https://scikit-learn.org/stable/modules/preprocessing.html\n",
      "  self.n_iter_ = _check_optimize_result(\"lbfgs\", opt_res, self.max_iter)\n"
     ]
    }
   ],
   "source": [
    "model = HuberRegressor()\n",
    "model.fit(X_train, y_train)\n",
    "y_pred = model.predict(X_train)\n",
    "print(mean_absolute_error(y_train, y_pred))"
   ]
  },
  {
   "cell_type": "code",
   "execution_count": 8,
   "metadata": {},
   "outputs": [],
   "source": [
    "# from sklearn.model_selection import GridSearchCV\n",
    "# from sklearn.pipeline import Pipeline\n",
    "# from sklearn.preprocessing import PolynomialFeatures\n",
    "# from sklearn.linear_model import Ridge\n",
    "\n",
    "# # Ridge Pipeline'ini yaratish\n",
    "# ridge_pipeline = Pipeline([\n",
    "#     ('poly', PolynomialFeatures(degree=3)),\n",
    "#     ('model', Ridge())\n",
    "# ])\n",
    "\n",
    "# # Alfa parametrlarining qatorini aniqlash\n",
    "# alpha_values = np.logspace(-4, 4, 50)\n",
    "\n",
    "# # GridSearchCV uchun parametrlar\n",
    "# ridge_params = {'model__alpha': alpha_values}\n",
    "\n",
    "# # GridSearchCV ni yaratish\n",
    "# ridge_search = GridSearchCV(ridge_pipeline, ridge_params, cv=5, scoring='neg_mean_absolute_error', n_jobs=-1)\n",
    "\n",
    "# # Trening ma'lumotlari bilan moslashish\n",
    "# ridge_search.fit(X_train, y_train)\n",
    "\n",
    "# # Eng yaxshi alpha ni topish\n",
    "# best_ridge_alpha = ridge_search.best_params_['model__alpha']\n",
    "# print(f'Eng yaxshi alpha Ridge uchun: {best_ridge_alpha}')\n",
    "\n",
    "# # Eng yaxshi model bilan test prognozlari\n",
    "# y_train_pred = ridge_search.predict(X_train)\n",
    "# mae_train = mean_absolute_error(y_train, y_train_pred)\n",
    "# print(f'Test ma\\'lumotlaridagi MAE: {mae_train}')\n"
   ]
  },
  {
   "cell_type": "code",
   "execution_count": null,
   "metadata": {},
   "outputs": [],
   "source": []
  },
  {
   "cell_type": "code",
   "execution_count": 9,
   "metadata": {},
   "outputs": [],
   "source": [
    "# from sklearn.model_selection import GridSearchCV\n",
    "# from sklearn.pipeline import Pipeline\n",
    "# from sklearn.linear_model import HuberRegressor\n",
    "# from sklearn.metrics import mean_absolute_error\n",
    "# import numpy as np\n",
    "\n",
    "# # Huber Regressor Pipeline'ini yaratish\n",
    "# huber_pipeline = Pipeline([\n",
    "#     ('model', HuberRegressor())\n",
    "# ])\n",
    "\n",
    "# # Epsilon parametrlarining qatorini aniqlash\n",
    "# epsilon_values = np.linspace(1.1, 3.0, 20)\n",
    "\n",
    "# # GridSearchCV uchun parametrlar\n",
    "# huber_params = {'model__epsilon': epsilon_values}\n",
    "\n",
    "# # GridSearchCV ni yaratish\n",
    "# huber_search = GridSearchCV(huber_pipeline, huber_params, cv=5, scoring='neg_mean_absolute_error', n_jobs=-1)\n",
    "\n",
    "# # Trening ma'lumotlari bilan moslashish\n",
    "# huber_search.fit(X_train, y_train)\n",
    "\n",
    "# # Eng yaxshi epsilon ni topish\n",
    "# best_huber_epsilon = huber_search.best_params_['model__epsilon']\n",
    "# print(f'Eng yaxshi epsilon Huber uchun: {best_huber_epsilon}')\n",
    "\n",
    "# # Eng yaxshi model bilan trening prognozlari\n",
    "# y_train_pred = huber_search.predict(X_train)\n",
    "# mae_train = mean_absolute_error(y_train, y_train_pred)\n",
    "# print(f'Training ma\\'lumotlaridagi MAE: {mae_train}')\n",
    "\n",
    "# # Eng yaxshi model bilan test prognozlari\n",
    "# y_test_pred = huber_search.predict(X_train)\n",
    "# mae_train = mean_absolute_error(y_train, y_test_pred)\n",
    "# print(f'Test ma\\'lumotlaridagi MAE: {mae_train}')\n"
   ]
  },
  {
   "cell_type": "code",
   "execution_count": 10,
   "metadata": {},
   "outputs": [],
   "source": [
    " from sklearn.pipeline import Pipeline\n",
    " from sklearn.feature_selection import RFE\n",
    " from sklearn.linear_model import TheilSenRegressor, LinearRegression\n",
    " from sklearn.preprocessing import PolynomialFeatures\n",
    " from sklearn.model_selection import GridSearchCV\n",
    " from sklearn.metrics import mean_absolute_error\n",
    "\n",
    " # RFE uchun asosiy model (bu yerda LinearRegression dan foydalanamiz)\n",
    " rfe_estimator = LinearRegression()\n",
    "\n",
    "# # TheilSen Regressor Pipeline'ini yaratish (RFE bilan)\n",
    " ts_pipeline = Pipeline([\n",
    "     ('rfe', RFE(estimator=rfe_estimator, n_features_to_select=5)),  # RFE ni tanlash\n",
    "     ('poly', PolynomialFeatures(degree=2)),\n",
    "     ('model', TheilSenRegressor())\n",
    " ])\n",
    "\n",
    " # fit_intercept parametrlarini aniqlash\n",
    " fit_intercept_values = [True, False]\n",
    "\n",
    " # GridSearchCV uchun parametrlar\n",
    " ts_params = {\n",
    "     'model__fit_intercept': fit_intercept_values,\n",
    "     'rfe__n_features_to_select': [5, 7, 10]  # RFE orqali tanlanadigan xususiyatlar soni\n",
    " }\n",
    "\n",
    "# # GridSearchCV ni yaratish\n",
    " ts_search = GridSearchCV(ts_pipeline, ts_params, cv=5, scoring='neg_mean_absolute_error', n_jobs=-1)\n",
    "\n",
    " # Trening ma'lumotlari bilan moslashish\n",
    " ts_search.fit(X_train, y_train)\n",
    "\n",
    "# # Eng yaxshi fit_intercept va n_features_to_select ni topish\n",
     best_ts_fit_intercept = ts_search.best_params_['model__fit_intercept']\n",
    " best_n_features = ts_search.best_params_['rfe__n_features_to_select']\n",
    " print(f'Eng yaxshi fit_intercept Theil-Sen uchun: {best_ts_fit_intercept}')\n",
    " print(f'Eng yaxshi tanlangan xususiyatlar soni: {best_n_features}')\n",
    "\n",
    " # Eng yaxshi model bilan trening prognozlari\n",
    " y_train_pred = ts_search.predict(X_train)\n",
    " mae_train = mean_absolute_error(y_train, y_train_pred)\n",
    " print(f'Training ma\\'lumotlaridagi MAE: {mae_train}')\n",
    "\n",
    " # Eng yaxshi model bilan test prognozlari\n",
    " y_test_pred = ts_search.predict(X_train)\n",
    " mae_test = mean_absolute_error(y_train, y_test_pred)\n",
    " print(f'Test ma\\'lumotlaridagi MAE: {mae_test}')\n"
   ]
  },
  {
   "cell_type": "code",
   "execution_count": 11,
   "metadata": {},
   "outputs": [],
   "source": [
    "sample_csv = pd.read_csv('sample_submission.csv')"
   ]
  },
  {
   "cell_type": "code",
   "execution_count": 12,
   "metadata": {},
   "outputs": [
    {
     "name": "stderr",
     "output_type": "stream",
     "text": [
      "c:\\Users\\User\\AppData\\Local\\Programs\\Python\\Python312\\Lib\\site-packages\\sklearn\\linear_model\\_huber.py:342: ConvergenceWarning: lbfgs failed to converge (status=1):\n",
      "STOP: TOTAL NO. of ITERATIONS REACHED LIMIT.\n",
      "\n",
      "Increase the number of iterations (max_iter) or scale the data as shown in:\n",
      "    https://scikit-learn.org/stable/modules/preprocessing.html\n",
      "  self.n_iter_ = _check_optimize_result(\"lbfgs\", opt_res, self.max_iter)\n"
     ]
    },
    {
     "name": "stdout",
     "output_type": "stream",
     "text": [
      "1.305925590109105\n"
     ]
    }
   ],
   "source": [
    "linear_pipeline = Pipeline([('poly', PolynomialFeatures(degree=3)), \n",
    "                            ('model', LinearRegression())])\n",
    "\n",
    "ridge_pipeline = Pipeline([('poly', PolynomialFeatures(degree=3)), \n",
    "                           ('model', Ridge(alpha=0.0001))])\n",
    "\n",
    "lasso_pipeline = Pipeline([('poly', PolynomialFeatures(degree=2)), \n",
    "                           ('model', Lasso(alpha=0.0001))])\n",
    "\n",
    "huber_pipeline = Pipeline([('model', HuberRegressor(epsilon=1.4))])\n",
    "\n",
    "ransac_pipeline = Pipeline([('poly', PolynomialFeatures(degree=1)), \n",
    "                            ('model', RANSACRegressor())])\n",
    "\n",
    "ts_pipeline = Pipeline([('poly', PolynomialFeatures(degree=2)), \n",
    "                            ('model', TheilSenRegressor(fit_intercept=True))])\n",
    "\n",
    "\n",
    "# Combine them into a StackingRegressor\n",
    "stacking_regressor = StackingRegressor(\n",
    "    estimators=[\n",
    "        ('linear', linear_pipeline),\n",
    "        ('ridge', ridge_pipeline),\n",
    "        ('lasso', lasso_pipeline),\n",
    "        ('huber', huber_pipeline),\n",
    "        ('ts', ts_pipeline)\n",
    "    ],\n",
    "    cv = 9,\n",
    "    passthrough=True,\n",
    "    final_estimator=huber_pipeline,  # You can choose any regressor here\n",
    "    n_jobs=-1\n",
    ")\n",
    "\n",
    "# Fit the StackingRegressor on the training data\n",
    "stacking_regressor.fit(X_train, y_train)\n",
    "voting_predict = stacking_regressor.predict(X_train)\n",
    "y_test_pred = stacking_regressor.predict(X_test)\n",
    "print(mean_absolute_error(voting_predict, y_train))"
   ]
  },
  {
   "cell_type": "code",
   "execution_count": 13,
   "metadata": {},
   "outputs": [
    {
     "name": "stdout",
     "output_type": "stream",
     "text": [
      "1.2786666666666666\n"
     ]
    }
   ],
   "source": [
    "print(mean_absolute_error(np.round(voting_predict), y_train))"
   ]
  },
  {
   "cell_type": "code",
   "execution_count": 14,
   "metadata": {},
   "outputs": [],
   "source": [
    " from sklearn.feature_selection import RFE\n",
    " from sklearn.linear_model import LinearRegression, Ridge, Lasso, HuberRegressor\n",
    " from sklearn.pipeline import Pipeline\n",
    " from sklearn.preprocessing import PolynomialFeatures\n",
    " from sklearn.compose import TransformedTargetRegressor\n",
    " from sklearn.ensemble import StackingRegressor\n",
    " from sklearn.metrics import mean_absolute_error\n",
    "\n",
    " # Asosiy modellarga RFE-ni qo'llash\n",
    " linear_model = LinearRegression()\n",
    " ridge_model = Ridge(alpha=7.9)\n",
    " lasso_model = Lasso(alpha=0.0001)\n",
    " huber_model = HuberRegressor(epsilon=1.4)\n",
    " ts_model = TheilSenRegressor(fit_intercept=True)\n",
    "\n",
    "# # RFE ni har bir modelga qo'llash\n",
    " linear_rfe = RFE(estimator=linear_model, n_features_to_select=5)\n",
    " ridge_rfe = RFE(estimator=ridge_model, n_features_to_select=5)\n",
    " lasso_rfe = RFE(estimator=lasso_model, n_features_to_select=5)\n",
    " huber_rfe = RFE(estimator=huber_model, n_features_to_select=5)\n",
    " ts_rfe = RFE(estimator=ts_model, n_features_to_select=5)\n",
    "\n",
    "# # Har bir model uchun Pipeline yaratish\n",
    " linear_pipeline = Pipeline([\n",
    "     ('poly', PolynomialFeatures(degree=3)),\n",
    "     ('rfe', linear_rfe),\n",
    "     ('model', linear_model)\n",
    " ])\n",
    "\n",
    " ridge_pipeline = Pipeline([\n",
    "     ('poly', PolynomialFeatures(degree=3)),\n",
    "     ('rfe', ridge_rfe),\n",
    "     ('model', ridge_model)\n",
    " ])\n",
    "\n",
    " lasso_pipeline = Pipeline([\n",
    "     ('poly', PolynomialFeatures(degree=3)),\n",
    "     ('rfe', lasso_rfe),\n",
    "     ('model', lasso_model)\n",
    " ])\n",
    "\n",
    " huber_pipeline = Pipeline([\n",
    "     ('rfe', huber_rfe),\n",
    "     ('model', huber_model)\n",
    " ])\n",
    "\n",
    " ts_pipeline = Pipeline([\n",
    "     ('poly', PolynomialFeatures(degree=2)),\n",
    "     ('rfe', ts_rfe),\n",
    "     ('model', ts_model)\n",
    " ])\n",
    "\n",
    " # Stackingi regressor-ni yaratish\n",
    " stacking_regressor = StackingRegressor(\n",
    "     estimators=[\n",
    "         ('linear', linear_pipeline),\n",
    "         ('ridge', ridge_pipeline),\n",
    "         ('lasso', lasso_pipeline),\n",
    "         ('huber', huber_pipeline),\n",
    "         ('ts', ts_pipeline)\n",
    "     ],\n",
    "     cv=5,\n",
    "     passthrough=True,\n",
    "     final_estimator=huber_pipeline,  # Siz tanlagan regressor\n",
    "     n_jobs=-1\n",
    " )\n",
    "\n",
    " # O'qitish va baholash\n",
    " stacking_regressor.fit(X_train, y_train)\n",
    " voting_predict = stacking_regressor.predict(X_train)\n",
    " y_test_pred = stacking_regressor.predict(X_train)\n",
    "\n",
    " print(\"Training MAE:\", mean_absolute_error(y_train, voting_predict))\n",
    " print(\"Test MAE:\", mean_absolute_error(y_train, y_test_pred))\n"
   ]
  },
  {
   "cell_type": "code",
   "execution_count": 15,
   "metadata": {},
   "outputs": [
    {
     "name": "stdout",
     "output_type": "stream",
     "text": [
      "1.2786666666666666\n"
     ]
    }
   ],
   "source": [
    "print(mean_absolute_error(np.round(voting_predict), y_train))"
   ]
  },
  {
   "cell_type": "code",
   "execution_count": 16,
   "metadata": {},
   "outputs": [],
   "source": [
    "sample_csv['Age'] = np.round(y_test_pred)\n"
   ]
  },
  {
   "cell_type": "code",
   "execution_count": 17,
   "metadata": {},
   "outputs": [
    {
     "data": {
      "text/html": [
       "<div>\n",
       "<style scoped>\n",
       "    .dataframe tbody tr th:only-of-type {\n",
       "        vertical-align: middle;\n",
       "    }\n",
       "\n",
       "    .dataframe tbody tr th {\n",
       "        vertical-align: top;\n",
       "    }\n",
       "\n",
       "    .dataframe thead th {\n",
       "        text-align: right;\n",
       "    }\n",
       "</style>\n",
       "<table border=\"1\" class=\"dataframe\">\n",
       "  <thead>\n",
       "    <tr style=\"text-align: right;\">\n",
       "      <th></th>\n",
       "      <th>id</th>\n",
       "      <th>Age</th>\n",
       "    </tr>\n",
       "  </thead>\n",
       "  <tbody>\n",
       "    <tr>\n",
       "      <th>0</th>\n",
       "      <td>15000</td>\n",
       "      <td>6.0</td>\n",
       "    </tr>\n",
       "    <tr>\n",
       "      <th>1</th>\n",
       "      <td>15001</td>\n",
       "      <td>9.0</td>\n",
       "    </tr>\n",
       "    <tr>\n",
       "      <th>2</th>\n",
       "      <td>15002</td>\n",
       "      <td>5.0</td>\n",
       "    </tr>\n",
       "    <tr>\n",
       "      <th>3</th>\n",
       "      <td>15003</td>\n",
       "      <td>8.0</td>\n",
       "    </tr>\n",
       "    <tr>\n",
       "      <th>4</th>\n",
       "      <td>15004</td>\n",
       "      <td>7.0</td>\n",
       "    </tr>\n",
       "    <tr>\n",
       "      <th>...</th>\n",
       "      <td>...</td>\n",
       "      <td>...</td>\n",
       "    </tr>\n",
       "    <tr>\n",
       "      <th>9995</th>\n",
       "      <td>24995</td>\n",
       "      <td>9.0</td>\n",
       "    </tr>\n",
       "    <tr>\n",
       "      <th>9996</th>\n",
       "      <td>24996</td>\n",
       "      <td>8.0</td>\n",
       "    </tr>\n",
       "    <tr>\n",
       "      <th>9997</th>\n",
       "      <td>24997</td>\n",
       "      <td>10.0</td>\n",
       "    </tr>\n",
       "    <tr>\n",
       "      <th>9998</th>\n",
       "      <td>24998</td>\n",
       "      <td>9.0</td>\n",
       "    </tr>\n",
       "    <tr>\n",
       "      <th>9999</th>\n",
       "      <td>24999</td>\n",
       "      <td>8.0</td>\n",
       "    </tr>\n",
       "  </tbody>\n",
       "</table>\n",
       "<p>10000 rows × 2 columns</p>\n",
       "</div>"
      ],
      "text/plain": [
       "         id   Age\n",
       "0     15000   6.0\n",
       "1     15001   9.0\n",
       "2     15002   5.0\n",
       "3     15003   8.0\n",
       "4     15004   7.0\n",
       "...     ...   ...\n",
       "9995  24995   9.0\n",
       "9996  24996   8.0\n",
       "9997  24997  10.0\n",
       "9998  24998   9.0\n",
       "9999  24999   8.0\n",
       "\n",
       "[10000 rows x 2 columns]"
      ]
     },
     "execution_count": 17,
     "metadata": {},
     "output_type": "execute_result"
    }
   ],
   "source": [
    "sample_csv"
   ]
  },
  {
   "cell_type": "code",
   "execution_count": 18,
   "metadata": {},
   "outputs": [],
   "source": [
    "sample_csv.to_csv(\"Final.csv\", index=False)"
   ]
  },
  {
   "cell_type": "code",
   "execution_count": 19,
   "metadata": {},
   "outputs": [],
   "source": [
    "# def dfni_guruhlash_boyicha(df, group_column):\n",
    "#     \"\"\"\n",
    "#     Ushbu funksiya berilgan DataFrame'ni ma'lum bir ustun bo'yicha guruhlaydi\n",
    "#     va har bir guruh uchun alohida DataFrame hosil qiladi.\n",
    "\n",
    "#     :param df: Guruhlanadigan asosiy DataFrame\n",
    "#     :param group_column: Guruhlash uchun ishlatiladigan ustun nomi (masalan, 'Sex')\n",
    "#     :return: Guruhlangan DataFrame'larning lug'ati (dictionary)\n",
    "#     \"\"\"\n",
    "#     grouped = df.groupby(group_column)\n",
    "#     groups_dict = {group: grouped.get_group(group) for group in grouped.groups}\n",
    "#     return groups_dict\n",
    "\n",
    "\n",
    "# # Funksiyani chaqirish\n",
    "# guruhlangan_df_lar = dfni_guruhlash_boyicha(df, 'Sex')\n",
    "# new_list = []\n",
    "# # Har bir guruh uchun DataFrame'larni chop etish\n",
    "# for guruh_nomi, guruh_df in guruhlangan_df_lar.items():\n",
    "#     X_train = df.drop(['id', 'Sex', 'Age', \"predict_age\"], axis=1)\n",
    "#     y_train = df['Age']\n",
    "\n",
    "\n",
    "\n",
    "#     linear_pipeline = Pipeline([('scaler', StandardScaler()), \n",
    "#                                 ('poly', PolynomialFeatures(degree=2)), \n",
    "#                                 ('model', LinearRegression())])\n",
    "\n",
    "#     ridge_pipeline = Pipeline([('scaler', StandardScaler()), \n",
    "#                             ('poly', PolynomialFeatures(degree=2)), \n",
    "#                             ('model', Ridge())])\n",
    "\n",
    "#     lasso_pipeline = Pipeline([('scaler', StandardScaler()), \n",
    "#                             ('poly', PolynomialFeatures(degree=2)), \n",
    "#                             ('model', Lasso())])\n",
    "\n",
    "#     huber_pipeline = Pipeline([('scaler', StandardScaler()), \n",
    "#                             # ('poly', PolynomialFeatures(degree=2)), \n",
    "#                             ('model', HuberRegressor())])\n",
    "\n",
    "#     ransac_pipeline = Pipeline([('scaler', StandardScaler()), \n",
    "#                                 ('poly', PolynomialFeatures(degree=2)), \n",
    "#                                 ('model', RANSACRegressor())])\n",
    "\n",
    "#     ts_pipeline = Pipeline([('scaler', StandardScaler()), \n",
    "#                                 ('poly', PolynomialFeatures(degree=2)), \n",
    "#                                 ('model', TheilSenRegressor())])\n",
    "\n",
    "\n",
    "#     # Combine them into a StackingRegressor\n",
    "#     stacking_regressor = StackingRegressor(\n",
    "#         estimators=[\n",
    "#             ('linear', linear_pipeline),\n",
    "#             ('ridge', ridge_pipeline),\n",
    "#             ('lasso', lasso_pipeline),\n",
    "#             ('huber', huber_pipeline),\n",
    "#             ('ts', ts_pipeline)\n",
    "#         ],\n",
    "#         final_estimator=HuberRegressor()  # You can choose any regressor here\n",
    "#     )\n",
    "\n",
    "#     # Fit the StackingRegressor on the training data\n",
    "#     stacking_regressor.fit(X_train, y_train)\n",
    "#     voting_predict = stacking_regressor.predict(X_train)\n",
    "#     print(f\"\\n{guruh_nomi} guruhiga tegishli MAE:\")\n",
    "#     new_list.append(mean_absolute_error(np.round(voting_predict), y_train))\n",
    " "
   ]
  }
 ],
 "metadata": {
  "kernelspec": {
   "display_name": "Python 3",
   "language": "python",
   "name": "python3"
  },
  "language_info": {
   "codemirror_mode": {
    "name": "ipython",
    "version": 3
   },
   "file_extension": ".py",
   "mimetype": "text/x-python",
   "name": "python",
   "nbconvert_exporter": "python",
   "pygments_lexer": "ipython3",
   "version": "3.12.2"
  }
 },
 "nbformat": 4,
 "nbformat_minor": 2
}
